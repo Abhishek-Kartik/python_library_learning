{
 "cells": [
  {
   "cell_type": "markdown",
   "id": "6649209f",
   "metadata": {},
   "source": [
    "# Numpy (Numerical Python)"
   ]
  },
  {
   "cell_type": "code",
   "execution_count": 1,
   "id": "abae39d6",
   "metadata": {},
   "outputs": [],
   "source": [
    "import numpy as np"
   ]
  },
  {
   "cell_type": "code",
   "execution_count": 2,
   "id": "c5a245c8",
   "metadata": {},
   "outputs": [
    {
     "name": "stdout",
     "output_type": "stream",
     "text": [
      "<class 'numpy.ndarray'>\n",
      "[1 2 3 4 5]\n"
     ]
    }
   ],
   "source": [
    "arr= np.array([1,2,3,4,5])\n",
    "print(type(arr))\n",
    "print(arr)"
   ]
  },
  {
   "cell_type": "code",
   "execution_count": 3,
   "id": "06ea2f7d",
   "metadata": {},
   "outputs": [
    {
     "name": "stdout",
     "output_type": "stream",
     "text": [
      "[[ 2  3  8]\n",
      " [ 5  7  9]\n",
      " [11  0  5]]\n",
      "<class 'numpy.ndarray'>\n",
      "2\n"
     ]
    }
   ],
   "source": [
    "# 2D Array\n",
    "\n",
    "arr1 = np.array([[2,3,8],[5,7,9],[11,0,5]])\n",
    "print(arr1)\n",
    "print(type(arr1))\n",
    "print(arr1.ndim) #ndim to calculate the dimension"
   ]
  },
  {
   "cell_type": "code",
   "execution_count": 4,
   "id": "811b6497",
   "metadata": {},
   "outputs": [
    {
     "name": "stdout",
     "output_type": "stream",
     "text": [
      "2\n",
      "7\n"
     ]
    }
   ],
   "source": [
    "# indexing \n",
    "print(arr[1])\n",
    "print(arr1[1][1])"
   ]
  },
  {
   "cell_type": "code",
   "execution_count": 5,
   "id": "35adbd0a",
   "metadata": {},
   "outputs": [
    {
     "name": "stdout",
     "output_type": "stream",
     "text": [
      "[[[ 1  2  3]\n",
      "  [ 7  8  9]]\n",
      "\n",
      " [[11  0  5]\n",
      "  [45 69 78]]]\n"
     ]
    }
   ],
   "source": [
    "arr3 = np.array([[[1,2,3],[7,8,9]],[[11,0,5],[45,69,78]]])\n",
    "print(arr3)"
   ]
  },
  {
   "cell_type": "code",
   "execution_count": 6,
   "id": "c067fbe9",
   "metadata": {},
   "outputs": [
    {
     "name": "stdout",
     "output_type": "stream",
     "text": [
      "[2 3]\n",
      "[7 9]\n",
      "[8 9]\n"
     ]
    }
   ],
   "source": [
    "#Slicing \n",
    "print(arr[1:3])\n",
    "print(arr1[1,1:3])\n",
    "print(arr3[0,1,1:3])"
   ]
  },
  {
   "cell_type": "code",
   "execution_count": 7,
   "id": "1cf42878",
   "metadata": {},
   "outputs": [
    {
     "name": "stdout",
     "output_type": "stream",
     "text": [
      "int32\n",
      "<U8\n"
     ]
    }
   ],
   "source": [
    "#checking the datatype\n",
    "print(arr.dtype)\n",
    "arr4=np.array([\"abhishek\",\"rahul\",\"harsh\"])\n",
    "print(arr4.dtype)"
   ]
  },
  {
   "cell_type": "code",
   "execution_count": 8,
   "id": "0b1b7615",
   "metadata": {},
   "outputs": [
    {
     "name": "stdout",
     "output_type": "stream",
     "text": [
      "[b'1' b'2' b'3' b'4']\n",
      "|S1\n"
     ]
    }
   ],
   "source": [
    "#creating arrays with a defined datatype\n",
    "arr5= np.array([1,2,3,4],dtype=\"S\")\n",
    "print(arr5)\n",
    "print(arr5.dtype)"
   ]
  },
  {
   "cell_type": "code",
   "execution_count": 9,
   "id": "87809ab5",
   "metadata": {},
   "outputs": [
    {
     "name": "stdout",
     "output_type": "stream",
     "text": [
      "[1 2 3 4]\n",
      "int32\n"
     ]
    }
   ],
   "source": [
    "arr6= np.array([1,2,3,4],dtype=\"i4\")\n",
    "print(arr6)\n",
    "print(arr6.dtype)"
   ]
  },
  {
   "cell_type": "code",
   "execution_count": 10,
   "id": "46772653",
   "metadata": {},
   "outputs": [
    {
     "name": "stdout",
     "output_type": "stream",
     "text": [
      "(5,)\n",
      "(3, 3)\n",
      "(2, 2, 3)\n"
     ]
    }
   ],
   "source": [
    "#Array Shape\n",
    "\n",
    "print(arr.shape)\n",
    "print(arr1.shape)\n",
    "print(arr3.shape)"
   ]
  },
  {
   "cell_type": "code",
   "execution_count": 11,
   "id": "3d9bec47",
   "metadata": {},
   "outputs": [
    {
     "name": "stdout",
     "output_type": "stream",
     "text": [
      "[ 1 88 78 52 67 20]\n"
     ]
    }
   ],
   "source": [
    "#joining array\n",
    "x= np.array([1,88,78])\n",
    "y= np.array([52,67,20])\n",
    "z= np.concatenate((x,y))\n",
    "print(z)"
   ]
  },
  {
   "cell_type": "code",
   "execution_count": 12,
   "id": "6fc04b87",
   "metadata": {},
   "outputs": [
    {
     "name": "stdout",
     "output_type": "stream",
     "text": [
      "[[ 1 88]\n",
      " [78 26]\n",
      " [52 67]\n",
      " [ 1  0]]\n",
      "[[ 1 88 52 67]\n",
      " [78 26  1  0]]\n"
     ]
    }
   ],
   "source": [
    "x1= np.array([[1,88],[78,26]])\n",
    "y1= np.array([[52,67],[1,0]])\n",
    "z1= np.concatenate((x1,y1),axis=0)\n",
    "print(z1)\n",
    "\n",
    "x1= np.array([[1,88],[78,26]])\n",
    "y1= np.array([[52,67],[1,0]])\n",
    "z1= np.concatenate((x1,y1),axis=1)\n",
    "print(z1)"
   ]
  },
  {
   "cell_type": "code",
   "execution_count": 13,
   "id": "b047edd6",
   "metadata": {},
   "outputs": [
    {
     "name": "stdout",
     "output_type": "stream",
     "text": [
      "[array([1, 2]), array([3, 4]), array([5, 7])]\n"
     ]
    }
   ],
   "source": [
    "arr= np.array([1,2,3,4,5,7])\n",
    "newarr= np.array_split(arr,3)\n",
    "print(newarr)"
   ]
  },
  {
   "cell_type": "code",
   "execution_count": 14,
   "id": "44de4cee",
   "metadata": {},
   "outputs": [
    {
     "name": "stdout",
     "output_type": "stream",
     "text": [
      "[ 1  2  3  7  8  9 11  0  5 45 69 78]\n",
      "[ 1  2  3  7  8  9 11  0  5 45 69 78]\n"
     ]
    }
   ],
   "source": [
    "# Ravel and flatten : multi to 1D\n",
    "n= arr3.flatten()\n",
    "print(n)\n",
    "m= arr3.ravel()\n",
    "print(m)"
   ]
  },
  {
   "cell_type": "code",
   "execution_count": 15,
   "id": "00819b02",
   "metadata": {},
   "outputs": [
    {
     "name": "stdout",
     "output_type": "stream",
     "text": [
      "(array([1, 2, 5, 7, 8, 9]), array([0, 1, 4, 3, 5, 2], dtype=int64), array([2, 2, 1, 1, 2, 1], dtype=int64))\n"
     ]
    }
   ],
   "source": [
    "#Unique Function\n",
    "k=np.array([1,2,9,7,5,8,1,2,8])\n",
    "x=np.unique(k,return_index=True,return_counts=True)\n",
    "print(x)"
   ]
  },
  {
   "cell_type": "code",
   "execution_count": 16,
   "id": "d3685688",
   "metadata": {},
   "outputs": [
    {
     "name": "stdout",
     "output_type": "stream",
     "text": [
      "[1 2 7 5 8 1 2 8]\n"
     ]
    }
   ],
   "source": [
    "#Delete\n",
    "k=np.array([1,2,9,7,5,8,1,2,8])\n",
    "d=np.delete(k,[2])\n",
    "print(d)"
   ]
  }
 ],
 "metadata": {
  "kernelspec": {
   "display_name": "Python 3 (ipykernel)",
   "language": "python",
   "name": "python3"
  },
  "language_info": {
   "codemirror_mode": {
    "name": "ipython",
    "version": 3
   },
   "file_extension": ".py",
   "mimetype": "text/x-python",
   "name": "python",
   "nbconvert_exporter": "python",
   "pygments_lexer": "ipython3",
   "version": "3.11.4"
  }
 },
 "nbformat": 4,
 "nbformat_minor": 5
}
